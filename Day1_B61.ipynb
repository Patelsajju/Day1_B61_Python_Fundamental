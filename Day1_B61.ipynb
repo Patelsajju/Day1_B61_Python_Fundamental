{
 "cells": [
  {
   "cell_type": "code",
   "execution_count": 1,
   "id": "3c634833",
   "metadata": {},
   "outputs": [
    {
     "name": "stdout",
     "output_type": "stream",
     "text": [
      "Hello all welcome to the python programming world\n"
     ]
    }
   ],
   "source": [
    "print (\"Hello all welcome to the python programming world\")"
   ]
  },
  {
   "cell_type": "code",
   "execution_count": null,
   "id": "0b4d194b",
   "metadata": {},
   "outputs": [],
   "source": [
    "# for executing the cell ===> shift + enter button we have to press."
   ]
  }
 ],
 "metadata": {
  "kernelspec": {
   "display_name": "Python 3 (ipykernel)",
   "language": "python",
   "name": "python3"
  },
  "language_info": {
   "codemirror_mode": {
    "name": "ipython",
    "version": 3
   },
   "file_extension": ".py",
   "mimetype": "text/x-python",
   "name": "python",
   "nbconvert_exporter": "python",
   "pygments_lexer": "ipython3",
   "version": "3.9.12"
  }
 },
 "nbformat": 4,
 "nbformat_minor": 5
}
