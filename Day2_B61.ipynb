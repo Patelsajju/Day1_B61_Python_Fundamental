{
 "cells": [
  {
   "cell_type": "code",
   "execution_count": 1,
   "id": "06cef95e",
   "metadata": {},
   "outputs": [
    {
     "ename": "SyntaxError",
     "evalue": "invalid syntax (2318035243.py, line 1)",
     "output_type": "error",
     "traceback": [
      "\u001b[1;36m  Input \u001b[1;32mIn [1]\u001b[1;36m\u001b[0m\n\u001b[1;33m    introduction to python programming :\u001b[0m\n\u001b[1;37m                 ^\u001b[0m\n\u001b[1;31mSyntaxError\u001b[0m\u001b[1;31m:\u001b[0m invalid syntax\n"
     ]
    }
   ],
   "source": [
    "introduction to python programming :"
   ]
  },
  {
   "cell_type": "code",
   "execution_count": null,
   "id": "06dc92f6",
   "metadata": {},
   "outputs": [],
   "source": [
    "understanding the variables in python"
   ]
  },
  {
   "cell_type": "code",
   "execution_count": null,
   "id": "f224554f",
   "metadata": {},
   "outputs": [],
   "source": []
  },
  {
   "cell_type": "code",
   "execution_count": null,
   "id": "e6993c33",
   "metadata": {},
   "outputs": [],
   "source": []
  },
  {
   "cell_type": "code",
   "execution_count": 3,
   "id": "2e86fc31",
   "metadata": {},
   "outputs": [],
   "source": [
    "x = 2\n",
    "y = 3"
   ]
  },
  {
   "cell_type": "code",
   "execution_count": 4,
   "id": "450aa84a",
   "metadata": {},
   "outputs": [
    {
     "name": "stdout",
     "output_type": "stream",
     "text": [
      "5\n"
     ]
    }
   ],
   "source": [
    "z = x+y\n",
    "print(z)"
   ]
  },
  {
   "cell_type": "code",
   "execution_count": null,
   "id": "c61738d6",
   "metadata": {},
   "outputs": [],
   "source": []
  },
  {
   "cell_type": "code",
   "execution_count": null,
   "id": "20e92034",
   "metadata": {},
   "outputs": [],
   "source": [
    "Rules for declaring the variation in python:"
   ]
  },
  {
   "cell_type": "code",
   "execution_count": null,
   "id": "330eda4a",
   "metadata": {},
   "outputs": [],
   "source": [
    "1. Rule - 1 : A variable name should not contain any namespaces."
   ]
  },
  {
   "cell_type": "code",
   "execution_count": 5,
   "id": "cb0c4c97",
   "metadata": {},
   "outputs": [
    {
     "ename": "SyntaxError",
     "evalue": "invalid syntax (2367178959.py, line 1)",
     "output_type": "error",
     "traceback": [
      "\u001b[1;36m  Input \u001b[1;32mIn [5]\u001b[1;36m\u001b[0m\n\u001b[1;33m    first name =\"Shahid\"\u001b[0m\n\u001b[1;37m          ^\u001b[0m\n\u001b[1;31mSyntaxError\u001b[0m\u001b[1;31m:\u001b[0m invalid syntax\n"
     ]
    }
   ],
   "source": [
    "first name =\"Shahid\"\n",
    "print(first name)"
   ]
  },
  {
   "cell_type": "code",
   "execution_count": 6,
   "id": "271c8a19",
   "metadata": {},
   "outputs": [
    {
     "name": "stdout",
     "output_type": "stream",
     "text": [
      "shahid\n"
     ]
    }
   ],
   "source": [
    "firstname =\"shahid\"\n",
    "print(firstname)"
   ]
  },
  {
   "cell_type": "code",
   "execution_count": null,
   "id": "a46cfec4",
   "metadata": {},
   "outputs": [],
   "source": [
    "Rule 2: A variable name should not start with numbers."
   ]
  },
  {
   "cell_type": "markdown",
   "id": "d04fba09",
   "metadata": {},
   "source": [
    "1name = \"patel\"\n",
    "print(1name)"
   ]
  },
  {
   "cell_type": "markdown",
   "id": "d5021b12",
   "metadata": {},
   "source": [
    "name1 =\"patel\"\n",
    "print(name1)"
   ]
  },
  {
   "cell_type": "code",
   "execution_count": 7,
   "id": "05390c4e",
   "metadata": {},
   "outputs": [
    {
     "name": "stdout",
     "output_type": "stream",
     "text": [
      "patel\n"
     ]
    }
   ],
   "source": [
    "name1 = \"patel\"\n",
    "print(name1)"
   ]
  },
  {
   "cell_type": "code",
   "execution_count": null,
   "id": "f7682c7b",
   "metadata": {},
   "outputs": [],
   "source": [
    "Rule No. 3: A variable name should not contain any special characters\n",
    "    @ $ % & *"
   ]
  },
  {
   "cell_type": "code",
   "execution_count": 8,
   "id": "7aa0fe4c",
   "metadata": {},
   "outputs": [
    {
     "ename": "SyntaxError",
     "evalue": "invalid syntax (1222749042.py, line 1)",
     "output_type": "error",
     "traceback": [
      "\u001b[1;36m  Input \u001b[1;32mIn [8]\u001b[1;36m\u001b[0m\n\u001b[1;33m    name@ = \"kumaran\"\u001b[0m\n\u001b[1;37m          ^\u001b[0m\n\u001b[1;31mSyntaxError\u001b[0m\u001b[1;31m:\u001b[0m invalid syntax\n"
     ]
    }
   ],
   "source": [
    "name@ = \"kumaran\"\n",
    "print(name@)"
   ]
  },
  {
   "cell_type": "code",
   "execution_count": null,
   "id": "2917bb77",
   "metadata": {},
   "outputs": [],
   "source": [
    "Introduction to data types in python:\n",
    "    1. String ====> str\n",
    "    2. Numbers ====> integers (int) and floats (float) - decimales 0.1,0.2\n",
    "    3.List ===> list\n",
    "    4.tuples ====> tuple\n",
    "    5.DIctionaries ===> dict"
   ]
  },
  {
   "cell_type": "code",
   "execution_count": null,
   "id": "0b34789d",
   "metadata": {},
   "outputs": [],
   "source": []
  },
  {
   "cell_type": "code",
   "execution_count": null,
   "id": "1963b02a",
   "metadata": {},
   "outputs": [],
   "source": [
    "classification 0"
   ]
  },
  {
   "cell_type": "code",
   "execution_count": null,
   "id": "83551c9b",
   "metadata": {},
   "outputs": [],
   "source": []
  },
  {
   "cell_type": "code",
   "execution_count": null,
   "id": "0577d04c",
   "metadata": {},
   "outputs": [],
   "source": [
    "3. triple quotes"
   ]
  },
  {
   "cell_type": "code",
   "execution_count": null,
   "id": "3b884c09",
   "metadata": {},
   "outputs": [],
   "source": []
  },
  {
   "cell_type": "code",
   "execution_count": 9,
   "id": "18326adf",
   "metadata": {},
   "outputs": [
    {
     "name": "stdout",
     "output_type": "stream",
     "text": [
      "human\n"
     ]
    }
   ],
   "source": [
    "student1 = \"human\" #single quote\n",
    "print(student1)"
   ]
  },
  {
   "cell_type": "code",
   "execution_count": 11,
   "id": "d50146e3",
   "metadata": {},
   "outputs": [
    {
     "name": "stdout",
     "output_type": "stream",
     "text": [
      "sweet\n"
     ]
    }
   ],
   "source": [
    "student2 = \"sweet\" #double quote\n",
    "print(student2)"
   ]
  },
  {
   "cell_type": "code",
   "execution_count": 12,
   "id": "15c93d74",
   "metadata": {},
   "outputs": [
    {
     "name": "stdout",
     "output_type": "stream",
     "text": [
      "nice\n"
     ]
    }
   ],
   "source": [
    "student3 = \"nice\" #triple quote\n",
    "print(student3)"
   ]
  },
  {
   "cell_type": "code",
   "execution_count": null,
   "id": "f442f96a",
   "metadata": {},
   "outputs": [],
   "source": []
  },
  {
   "cell_type": "code",
   "execution_count": null,
   "id": "83222f98",
   "metadata": {},
   "outputs": [],
   "source": [
    "introduction to string method :"
   ]
  },
  {
   "cell_type": "code",
   "execution_count": 13,
   "id": "1310224e",
   "metadata": {},
   "outputs": [
    {
     "data": {
      "text/plain": [
       "str"
      ]
     },
     "execution_count": 13,
     "metadata": {},
     "output_type": "execute_result"
    }
   ],
   "source": [
    "type(student1)"
   ]
  },
  {
   "cell_type": "code",
   "execution_count": 14,
   "id": "ed132427",
   "metadata": {},
   "outputs": [
    {
     "data": {
      "text/plain": [
       "str"
      ]
     },
     "execution_count": 14,
     "metadata": {},
     "output_type": "execute_result"
    }
   ],
   "source": [
    "type(student2)"
   ]
  },
  {
   "cell_type": "code",
   "execution_count": 15,
   "id": "7c39ebe0",
   "metadata": {},
   "outputs": [
    {
     "data": {
      "text/plain": [
       "str"
      ]
     },
     "execution_count": 15,
     "metadata": {},
     "output_type": "execute_result"
    }
   ],
   "source": [
    "type(student3)"
   ]
  },
  {
   "cell_type": "code",
   "execution_count": null,
   "id": "f025d420",
   "metadata": {},
   "outputs": [],
   "source": [
    "# is used for commenting the lines ==> python will ignore to execute this"
   ]
  },
  {
   "cell_type": "code",
   "execution_count": 16,
   "id": "4a487141",
   "metadata": {},
   "outputs": [
    {
     "ename": "SyntaxError",
     "evalue": "invalid syntax (3930788428.py, line 1)",
     "output_type": "error",
     "traceback": [
      "\u001b[1;36m  Input \u001b[1;32mIn [16]\u001b[1;36m\u001b[0m\n\u001b[1;33m    is used for commenting the lines ===> python will ignore to execute this\u001b[0m\n\u001b[1;37m    ^\u001b[0m\n\u001b[1;31mSyntaxError\u001b[0m\u001b[1;31m:\u001b[0m invalid syntax\n"
     ]
    }
   ],
   "source": [
    "is used for commenting the lines ===> python will ignore to execute this"
   ]
  },
  {
   "cell_type": "code",
   "execution_count": null,
   "id": "e54e12b5",
   "metadata": {},
   "outputs": [],
   "source": []
  }
 ],
 "metadata": {
  "kernelspec": {
   "display_name": "Python 3 (ipykernel)",
   "language": "python",
   "name": "python3"
  },
  "language_info": {
   "codemirror_mode": {
    "name": "ipython",
    "version": 3
   },
   "file_extension": ".py",
   "mimetype": "text/x-python",
   "name": "python",
   "nbconvert_exporter": "python",
   "pygments_lexer": "ipython3",
   "version": "3.9.12"
  }
 },
 "nbformat": 4,
 "nbformat_minor": 5
}
